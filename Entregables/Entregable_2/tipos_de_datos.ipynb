{
 "cells": [
  {
   "cell_type": "markdown",
   "metadata": {},
   "source": [
    "# Tipo de datos"
   ]
  },
  {
   "cell_type": "markdown",
   "metadata": {},
   "source": [
    "# Ejercicio 1"
   ]
  },
  {
   "cell_type": "code",
   "execution_count": 5,
   "metadata": {},
   "outputs": [
    {
     "name": "stdout",
     "output_type": "stream",
     "text": [
      "[5, 4, 6, 2, 4, 9, 5, 6, 5, 6]\n",
      "5 elevado al cuadrado es 25 y elevado al cubo es 125\n",
      "4 elevado al cuadrado es 16 y elevado al cubo es 64\n",
      "6 elevado al cuadrado es 36 y elevado al cubo es 216\n",
      "2 elevado al cuadrado es 4 y elevado al cubo es 8\n",
      "4 elevado al cuadrado es 16 y elevado al cubo es 64\n",
      "9 elevado al cuadrado es 81 y elevado al cubo es 729\n",
      "5 elevado al cuadrado es 25 y elevado al cubo es 125\n",
      "6 elevado al cuadrado es 36 y elevado al cubo es 216\n",
      "5 elevado al cuadrado es 25 y elevado al cubo es 125\n",
      "6 elevado al cuadrado es 36 y elevado al cubo es 216\n"
     ]
    }
   ],
   "source": [
    "from random import randint\n",
    "lista = [randint(1,10) for i in range (0,10)]\n",
    "print(lista)\n",
    "for i in lista:\n",
    "    print(f\"{i} elevado al cuadrado es {i**2} y elevado al cubo es {i**3}\")\n",
    "    "
   ]
  },
  {
   "cell_type": "markdown",
   "metadata": {},
   "source": [
    "# Ejercicio 2\n",
    "Crea una lista e inicializarla con 5 cadenas de caracteres leídas por teclado. Copia los elementos de la lista en otra lista pero en orden inverso, y muestra sus elementos por la pantalla."
   ]
  },
  {
   "cell_type": "code",
   "execution_count": 8,
   "metadata": {},
   "outputs": [
    {
     "name": "stdout",
     "output_type": "stream",
     "text": [
      "['dfgdffg', 'gdfgfdgf', 'gfdgdffg', 'gfdgdf', 'fdgfdgf']\n"
     ]
    }
   ],
   "source": [
    "lista_palabras = [input(f\"Ingresa una palabra {i+1}\") for i in range(5)]\n",
    "lista_palabra_invertida = [palabra[::-1] for palabra in lista_palabras]\n",
    "print(lista_palabra_invertida)"
   ]
  },
  {
   "cell_type": "markdown",
   "metadata": {},
   "source": [
    "# Ejercicio 3\n",
    "Se quiere realizar un programa que lea por teclado las 5 notas obtenidas por un alumno (comprendidas entre 0 y 10). A continuación debe mostrar todas las notas, la nota media, la nota más alta que ha sacado y la menor."
   ]
  },
  {
   "cell_type": "code",
   "execution_count": 24,
   "metadata": {},
   "outputs": [
    {
     "name": "stdout",
     "output_type": "stream",
     "text": [
      "[2, 4, 6, 8, 10]\n",
      "6.0\n",
      "2\n",
      "10\n"
     ]
    }
   ],
   "source": [
    "notas = [int(input(f\"Ingresa nota {i+1}\")) for i in range (5)]\n",
    "print(notas)\n",
    "media =(sum(notas))\n",
    "print(sum(notas)/len(lista))\n",
    "print(min(notas))\n",
    "print(max(notas))"
   ]
  },
  {
   "cell_type": "markdown",
   "metadata": {},
   "source": [
    "# Ejercicio 4\n",
    "Codifica un programa en Python que nos permita guardar los nombres de los alumnos de una clase y las notas que han obtenido. Cada alumno puede tener distinta cantidad de notas. Guarda la información en un diccionario cuya claves serán los nombres de los alumnos y los valores serán listados con las notas de cada alumno.\n",
    "El programa pedirá el número de alumnos que vamos a introducir, pedirá su nombre e irá pidiendo sus notas hasta que introduzcamos un número negativo. Al final el programa nos mostrará la lista de alumnos y la nota media obtenida por cada uno de ellos. Nota: si se introduce el nombre de un alumno que ya existe el programa nos dará un error."
   ]
  }
 ],
 "metadata": {
  "kernelspec": {
   "display_name": "Python 3",
   "language": "python",
   "name": "python3"
  },
  "language_info": {
   "codemirror_mode": {
    "name": "ipython",
    "version": 3
   },
   "file_extension": ".py",
   "mimetype": "text/x-python",
   "name": "python",
   "nbconvert_exporter": "python",
   "pygments_lexer": "ipython3",
   "version": "3.11.2"
  },
  "orig_nbformat": 4
 },
 "nbformat": 4,
 "nbformat_minor": 2
}
